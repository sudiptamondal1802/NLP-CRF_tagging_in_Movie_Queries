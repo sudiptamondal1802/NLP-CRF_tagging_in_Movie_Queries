{
 "cells": [
  {
   "cell_type": "markdown",
   "metadata": {},
   "source": [
    "# Assignment 2: CRF sequence tagging for Movie Queries"
   ]
  },
  {
   "cell_type": "code",
   "execution_count": 1,
   "metadata": {},
   "outputs": [],
   "source": [
    "import os\n",
    "import sys\n",
    "\n",
    "from copy import deepcopy\n",
    "from collections import Counter\n",
    "from nltk.tag import CRFTagger\n",
    "\n",
    "from sklearn.metrics import confusion_matrix\n",
    "from sklearn.metrics import precision_recall_fscore_support\n",
    "from sklearn.metrics import classification_report\n",
    "\n",
    "import nltk                                 # Natural language toolkit\n",
    "from nltk.tokenize import word_tokenize     # seperates strings into words (along with punctuations getting seperated)\n",
    "\n",
    "from matplotlib import pyplot as plt\n",
    "import numpy as np\n",
    "\n",
    "import re\n",
    "import unicodedata"
   ]
  },
  {
   "cell_type": "markdown",
   "metadata": {},
   "source": [
    "# 1. Split the training data into 80% training, 20% development set (5 marks)\n",
    "Split the training data (`training_data`) into two lists: one split of the first 80% of the instances of `training_data`, which you will use for training your CRF, and the remaining 20% for testing. Once you've done this re-run the above code such that the tagger is trained on the 80% split and tested on the 20% split, and you obtain the classification report output and confusion heatmap output for the results of testing. Do not use the test data as it is above for testing/viewing results for now. Record the results by saving the classification report output as a string somewhere in the notebook for future reference as you go through.\n"
   ]
  },
  {
   "cell_type": "raw",
   "metadata": {},
   "source": [
    "#After executing the code till creation of confusion matrix below are the results of the macro average\n",
    "# Validate again with unprocessed trainined data\n",
    "#                                    precision    recall  f1-score\n",
    "#macro avg for the 20% test data      0.65      0.62      0.62    101125\n",
    "#macro avg for engtest.bio.txt        0.69      0.59      0.62     24686\n",
    "\"\"\"\n",
    "\n",
    "Classification report of the 20% test data after splitting the engtrain.bio.text into 80:20 training and test data split\n",
    "                        precision    recall  f1-score   support\n",
    "\n",
    "          B-ACTOR       0.65      0.87      0.74       433\n",
    "      B-CHARACTER       0.70      0.32      0.44        44\n",
    "       B-DIRECTOR       0.76      0.63      0.69       365\n",
    "          B-GENRE       0.96      0.97      0.97       927\n",
    "           B-PLOT       0.48      0.43      0.45       298\n",
    "         B-RATING       1.00      1.00      1.00       430\n",
    "B-RATINGS_AVERAGE       0.88      0.88      0.88       451\n",
    "         B-REVIEW       0.00      0.00      0.00        31\n",
    "           B-SONG       0.50      0.25      0.33        20\n",
    "          B-TITLE       0.66      0.35      0.46       679\n",
    "        B-TRAILER       1.00      0.50      0.67        28\n",
    "           B-YEAR       0.89      1.00      0.94       535\n",
    "          I-ACTOR       0.66      0.85      0.74       482\n",
    "      I-CHARACTER       0.58      0.60      0.59        47\n",
    "       I-DIRECTOR       0.76      0.62      0.68       410\n",
    "          I-GENRE       0.90      1.00      0.95       123\n",
    "           I-PLOT       0.28      0.64      0.39       148\n",
    "         I-RATING       0.98      1.00      0.99       156\n",
    "I-RATINGS_AVERAGE       0.76      0.94      0.84       408\n",
    "         I-REVIEW       0.00      0.00      0.00         9\n",
    "           I-SONG       0.29      0.23      0.26        43\n",
    "          I-TITLE       0.75      0.48      0.58      1182\n",
    "        I-TRAILER       0.00      0.00      0.00         1\n",
    "           I-YEAR       0.95      1.00      0.98       528\n",
    "                O       0.94      0.96      0.95     12447\n",
    "\n",
    "         accuracy                           0.88     20225\n",
    "        macro avg       0.65      0.62      0.62     20225\n",
    "     weighted avg       0.88      0.88      0.87     20225"
   ]
  },
  {
   "cell_type": "code",
   "execution_count": 2,
   "metadata": {},
   "outputs": [],
   "source": [
    "def get_raw_data_from_bio_file(fpath):\n",
    "    \"\"\"A simple function to read in from a one-word-per-line BIO\n",
    "    (Beginning, Inside, Outside) tagged corpus, tab separated\n",
    "    and each example sentence/text separated with a blank line.\n",
    "    The data is already tokenized in a simple way.\n",
    "    e.g.:\n",
    "    \n",
    "    O\ta\n",
    "    O\tgreat\n",
    "    O\tlunch\n",
    "    O\tspot\n",
    "    O\tbut\n",
    "    B-Hours\topen\n",
    "    I-Hours\ttill\n",
    "    I-Hours\t2\n",
    "    I-Hours\ta\n",
    "    I-Hours\tm\n",
    "    B-Restaurant_Name\tpassims\n",
    "    I-Restaurant_Name\tkitchen\n",
    "    \n",
    "    returns a list of lists of tuples of (word, tag) tuples\n",
    "    \"\"\"\n",
    "    f = open(fpath)\n",
    "    data = []  # the data, a list of lists of (word, tag) tuples\n",
    "    current_sent = []  # data for current sentence/example\n",
    "    for line in f:\n",
    "        if line == \"\\n\":  # each instance has a blank line separating it from next one\n",
    "            # solution\n",
    "            data.append(current_sent)\n",
    "            current_sent = []\n",
    "            continue\n",
    "        line_data = line.strip(\"\\n\").split(\"\\t\")\n",
    "        current_sent.append((line_data[1], line_data[0]))\n",
    "    f.close()\n",
    "    return data"
   ]
  },
  {
   "cell_type": "code",
   "execution_count": 3,
   "metadata": {},
   "outputs": [],
   "source": [
    "# Split the training data using the split percentage\n",
    "def splitData(percentage):\n",
    "    splitBorder   = int(percentage * len(raw_training_data))\n",
    "    training_data = raw_training_data[0 : splitBorder]\n",
    "    test_data     = raw_training_data[splitBorder : len(raw_training_data)]\n",
    "    \n",
    "    return training_data, test_data"
   ]
  },
  {
   "cell_type": "markdown",
   "metadata": {},
   "source": [
    "# 4. Using POS tags as features (15 marks)\n",
    "Use the CRF part-of-speech (POS) tagger as shown below to add POS tags to the words in the training data. Do this by altering the `preProcess` function above. Note the CRF tagger only takes strings as input so you will have to concatenate the word and POS tag together (with a special symbol, e.g. @), and you will also have to then split on this special symbol in the feature extraction function `get_features` to get the word and POS tag - modify that function so it uses the POS tag in addition to the word (currently using the word only is achieved by `feature_list.append(\"WORD_\" + token)`. Re-run the training and testing code on your 80%/20% training/dev split from question 1 and record the results from the classification report as text in this file for comparison of the accuracy metrics against not using POS tags- try to see any improvemements across the classes."
   ]
  },
  {
   "cell_type": "markdown",
   "metadata": {},
   "source": [
    "#### Report after making changes"
   ]
  },
  {
   "cell_type": "raw",
   "metadata": {},
   "source": [
    "                        precision    recall  f1-score   support\n",
    "\n",
    "          B-ACTOR       0.64      0.85      0.73       433\n",
    "      B-CHARACTER       0.68      0.34      0.45        44\n",
    "       B-DIRECTOR       0.75      0.64      0.69       365\n",
    "          B-GENRE       0.96      0.97      0.97       927\n",
    "           B-PLOT       0.46      0.47      0.46       298\n",
    "         B-RATING       1.00      1.00      1.00       430\n",
    "B-RATINGS_AVERAGE       0.88      0.89      0.89       451\n",
    "         B-REVIEW       0.00      0.00      0.00        31\n",
    "           B-SONG       0.54      0.35      0.42        20\n",
    "          B-TITLE       0.68      0.34      0.45       679\n",
    "        B-TRAILER       1.00      0.54      0.70        28\n",
    "           B-YEAR       0.89      1.00      0.94       535\n",
    "          I-ACTOR       0.65      0.83      0.73       482\n",
    "      I-CHARACTER       0.55      0.60      0.57        47\n",
    "       I-DIRECTOR       0.75      0.63      0.69       410\n",
    "          I-GENRE       0.91      1.00      0.95       123\n",
    "           I-PLOT       0.25      0.64      0.36       148\n",
    "         I-RATING       0.98      1.00      0.99       156\n",
    "I-RATINGS_AVERAGE       0.78      0.93      0.85       408\n",
    "         I-REVIEW       0.00      0.00      0.00         9\n",
    "           I-SONG       0.31      0.35      0.33        43\n",
    "          I-TITLE       0.82      0.47      0.60      1182\n",
    "        I-TRAILER       0.00      0.00      0.00         1\n",
    "           I-YEAR       0.96      1.00      0.98       528\n",
    "                O       0.94      0.96      0.95     12447\n",
    "\n",
    "         accuracy                           0.88     20225\n",
    "        macro avg       0.66      0.63      0.63     20225\n",
    "     weighted avg       0.88      0.88      0.88     20225"
   ]
  },
  {
   "cell_type": "code",
   "execution_count": 4,
   "metadata": {},
   "outputs": [],
   "source": [
    "def preProcess(text):\n",
    "    \"\"\"Function takes in list of (word, bio-tag) pairs, e.g.:\n",
    "        [('what', 'O'), ('movies', 'O'), ('star', 'O'), ('bruce', 'B-ACTOR'), ('willis', 'I-ACTOR')]\n",
    "    returns new (token, bio-tag) pairs with preprocessing applied to the words\"\"\"\n",
    "    \n",
    "    #For loop to select the word from every tuple of the list and add a POS using the CRF POS tagger\n",
    "    words = []\n",
    "    for word_label in text:\n",
    "        words.append(word_label[0])\n",
    "        \n",
    "    # a postagger - for tagging the part of speech to the word\n",
    "    posttagger = CRFTagger()\n",
    "    posttagger.set_model_file(\"crf_pos.tagger\")\n",
    "    word_pos_list = posttagger.tag(words)\n",
    "    \n",
    "    #concatenate the word and POS tag together (with a special symbol, e.g. @)\n",
    "    token_biotag = []\n",
    "    for idx, word_pos in enumerate(word_pos_list):\n",
    "        word_posconcate_biotag = (word_pos[0] + '@' + word_pos[1],text[idx][1])\n",
    "        token_biotag.append(word_posconcate_biotag)\n",
    "    \n",
    "    return token_biotag"
   ]
  },
  {
   "cell_type": "code",
   "execution_count": 5,
   "metadata": {},
   "outputs": [
    {
     "data": {
      "text/plain": [
       "[('what@WP', 'O'),\n",
       " ('movies@VBZ', 'O'),\n",
       " ('star@NNP', 'O'),\n",
       " ('bruce@NNP', 'B-ACTOR'),\n",
       " ('willis@NNP', 'I-ACTOR')]"
      ]
     },
     "execution_count": 5,
     "metadata": {},
     "output_type": "execute_result"
    }
   ],
   "source": [
    "#test to validate preProcess method\n",
    "test = [('what', 'O'), ('movies', 'O'), ('star', 'O'), ('bruce', 'B-ACTOR'), ('willis', 'I-ACTOR')]\n",
    "preProcess(test)"
   ]
  },
  {
   "cell_type": "code",
   "execution_count": 6,
   "metadata": {},
   "outputs": [
    {
     "name": "stdout",
     "output_type": "stream",
     "text": [
      "Now 9775 rawData, 0 trainData, 0 testData\n",
      "Preparing training and test data...\n",
      "After split, 9775 rawData, 7820 trainData, 1955 testData\n"
     ]
    }
   ],
   "source": [
    "raw_training_data = get_raw_data_from_bio_file(\"engtrain.bio.txt\") \n",
    "unprocessed_training_data = []\n",
    "unprocessed_test_data = []\n",
    "print(\"Now %d rawData, %d trainData, %d testData\" % (len(raw_training_data), len(unprocessed_training_data), \n",
    "                                                     len(unprocessed_test_data)),\n",
    "      \"Preparing training and test data...\",sep='\\n')\n",
    "unprocessed_training_data, unprocessed_test_data = splitData(0.8)\n",
    "\n",
    "# We print the number of training samples and the number of features after the split\n",
    "print(\"After split, %d rawData, %d trainData, %d testData\" % (len(raw_training_data), len(unprocessed_training_data), \n",
    "       len(unprocessed_test_data)))"
   ]
  },
  {
   "cell_type": "code",
   "execution_count": 7,
   "metadata": {},
   "outputs": [
    {
     "name": "stdout",
     "output_type": "stream",
     "text": [
      "[('what', 'O'), ('movies', 'O'), ('star', 'O'), ('bruce', 'B-ACTOR'), ('willis', 'I-ACTOR')]\n",
      "[('i', 'O'), ('want', 'O'), ('to', 'O'), ('find', 'O'), ('the', 'O'), ('movie', 'O'), ('with', 'O'), ('scarlett', 'B-CHARACTER'), ('o', 'I-CHARACTER'), ('hara', 'I-CHARACTER'), ('in', 'O'), ('it', 'O')]\n"
     ]
    }
   ],
   "source": [
    "#Validate if the test data and train data got split correctly\n",
    "print(unprocessed_training_data[0]) # first line of the engtrain.bio.txt\n",
    "print(unprocessed_test_data[-1]) # last  line of the engtrain.bio.txt"
   ]
  },
  {
   "cell_type": "code",
   "execution_count": 8,
   "metadata": {},
   "outputs": [],
   "source": [
    "training_data = [preProcess(sample) for sample in unprocessed_training_data]"
   ]
  },
  {
   "cell_type": "code",
   "execution_count": 9,
   "metadata": {},
   "outputs": [
    {
     "name": "stdout",
     "output_type": "stream",
     "text": [
      "[('what@WP', 'O'), ('movies@NNS', 'O'), ('starred@VBD', 'O'), ('both@DT', 'O'), ('al@NNP', 'B-ACTOR'), ('pacino@NNP', 'I-ACTOR'), ('and@CC', 'O'), ('robert@NNP', 'B-ACTOR'), ('deniro@NNP', 'I-ACTOR')]\n"
     ]
    }
   ],
   "source": [
    "print(training_data[2])  #print third line of the processed training data"
   ]
  },
  {
   "cell_type": "markdown",
   "metadata": {},
   "source": [
    "# 5. Feature experimentation for optimal macro average (20 marks).\n",
    "Experiment with different features by further adjusting the `get_features` function, and modifying it to get the best results in terms of `macro average f-score` (i.e. average f-score across all classes) on your 20% development data. Iteratively try different functions, briefly describe the method and record the results in the classification report format. You could try more suffixes/prefixes of the current word than those currently extracted, you could use windows of the next and previous tokens (of different sizes, e.g. the previous/next N words/tags). As you try different feature functions, use the techniques you used in Q1 and Q2 to see the kind of errors you are getting for lower performing classes, in addition to the confusion matrix over classes. Leave the `get_features` functions in the state you used to get the highest `macro average f-score` on your 20% development set, then re-train the model on ALL the training data and print the classification report for the original test data (i.e. from the test file `engtest.bio.txt`) as your final piece of code."
   ]
  },
  {
   "cell_type": "markdown",
   "metadata": {},
   "source": [
    "#### Briefly describe the method\n",
    "- Step 1: Added suffixes upto length 4 and prefixes of length 4 and 5. This increased the f1-score of the macro average from 63% after adding the POS tags to 65%\n",
    "- Step 2: Added the istitle() to identify the titles and islower() for lower case. The f1-score of the macro average remains the same\n",
    "- Step 3: After the adding just features for the previous token(current-1) f1-score of the macro-average improved from 65% to 71%. \n",
    "- Step 4: After adding the next token features along with the previous(current+1), the f1-score of macro average to 70% is reached\n",
    "- Step 5: Added the previous token(current-2) features along with the next(current+2), the f1-score of macro average remains constant at 70%\n",
    "- step 6: Finally added the POS tag as well for the previous 2 tokens which keeps the f1-score of macro avegrage constant at 70%"
   ]
  },
  {
   "cell_type": "markdown",
   "metadata": {},
   "source": [
    "### Experiment and record the results in the classification report format"
   ]
  },
  {
   "cell_type": "markdown",
   "metadata": {},
   "source": [
    "#### After adding suffix upto length 4 and prefixes of length 4 and 5. This increased the f1-score of the macro average from 63% after adding the POS tags to 65%"
   ]
  },
  {
   "cell_type": "raw",
   "metadata": {},
   "source": [
    "Classes with low precision: B-REVIEW, I-REVIEW, I-TRAILER, I-SONG, I-PLOT\n",
    "Classes with low recall: B-REVIEW, I-REVIEW, I-TRAILER, B-CHARACTER, B-SONG, the recall value of I-SONG seems to be improved as compared to initial 80:20 split (from 0.31 to 0.40) and B-CHARACTER is now the new class instead\n",
    "\n",
    "                        precision    recall  f1-score   support\n",
    "          B-ACTOR       0.73      0.89      0.80       433\n",
    "      B-CHARACTER       0.68      0.30      0.41        44\n",
    "       B-DIRECTOR       0.77      0.67      0.72       365\n",
    "          B-GENRE       0.97      0.99      0.98       927\n",
    "           B-PLOT       0.59      0.72      0.65       298\n",
    "         B-RATING       1.00      1.00      1.00       430\n",
    "B-RATINGS_AVERAGE       0.88      0.90      0.89       451\n",
    "         B-REVIEW       0.00      0.00      0.00        31\n",
    "           B-SONG       0.37      0.35      0.36        20\n",
    "          B-TITLE       0.70      0.39      0.50       679\n",
    "        B-TRAILER       1.00      0.54      0.70        28\n",
    "           B-YEAR       0.96      1.00      0.98       535\n",
    "          I-ACTOR       0.74      0.87      0.80       482\n",
    "      I-CHARACTER       0.56      0.40      0.47        47\n",
    "       I-DIRECTOR       0.77      0.68      0.72       410\n",
    "          I-GENRE       0.90      1.00      0.95       123\n",
    "           I-PLOT       0.34      0.80      0.48       148\n",
    "         I-RATING       0.98      1.00      0.99       156\n",
    "I-RATINGS_AVERAGE       0.80      0.94      0.86       408\n",
    "         I-REVIEW       0.00      0.00      0.00         9\n",
    "           I-SONG       0.29      0.40      0.33        43\n",
    "          I-TITLE       0.81      0.52      0.63      1182\n",
    "        I-TRAILER       0.00      0.00      0.00         1\n",
    "           I-YEAR       0.97      1.00      0.98       528\n",
    "                O       0.95      0.97      0.96     12447\n",
    "\n",
    "         accuracy                           0.90     20225\n",
    "        macro avg       0.67      0.65      0.65     20225\n",
    "     weighted avg       0.90      0.90      0.89     20225"
   ]
  },
  {
   "cell_type": "markdown",
   "metadata": {},
   "source": [
    "#### After adding the istitle() to identify the titles and islower() for lower case, the macro-average f1-score remains the same"
   ]
  },
  {
   "cell_type": "raw",
   "metadata": {},
   "source": [
    "Classes with low precision: B-REVIEW, I-REVIEW, I-TRAILER, I-SONG, I-PLOT checked the false positives:\n",
    "\n",
    "B-REVIEW - 45 class O, 2 class B-TITLE, 1  of I-TITLE\n",
    "I-REVIEW - 3  class O, 1 class of I-TITLE\n",
    "I-TRAILER - 0 \n",
    "I-PLOT - 1 of class B-ACTOR, 7 of B-PLOT,4 of B-TITLE, 2 of B-TRAILER, 8 of I-DIRECTOR, 4 of B-GENRE, 44 of class O, 2 of B-DIRECTOR, 159 of I-TITLE\n",
    "I-SONG - 1  of B-PLOT, 1  of I-PLOT, 2  of B-TITLE, 1 of B-GENRE, 1 of B-RATING-AVERAGE, 12 of O, 18 of I-TITLE\n",
    "\n",
    "Upon further error analysis:\n",
    "-B-REVIEW are false positives for words before B-GENRE\n",
    "-If the next word B-GENRE, the word is tagged as I-REVIEW and the word before that is tagged as B-REVIEW in turn\n",
    "-Example, ('top@NN', 'B-REVIEW'), ('ten@CD', 'I-REVIEW'), ('favorite@JJ', 'I-REVIEW'), ('war@NN', 'B-GENRE'),\n",
    "-Some of the words are tagged as B-PLOT, for example blue@JJ, and the preceding words get tagged incorrectly as I-PLOT in turn\n",
    "\n",
    "Classes with low recall: B-REVIEW, I-REVIEW, I-TRAILER, B-CHARACTER, B-SONG,checked the false negatives:\n",
    "B-REVIEW - 1 false negative of class B-PLOT, 1 false negative of class B-RATINGS-AVERAGE, 28 false negatives of class O, 1 false negative of class I-TITLE\n",
    "I-REVIEW - 1 false negative of class I-RATINGS-AVERAGE\n",
    "I-TRAILER - 1 false negative of O\n",
    "B-CHARACTER - 2 false negative of B-ACTOR, 13 false negative of B-TITLE, 10 false negative of I-TITLE,7 false negative of B-DIRECTOR,   4 false negative of I-CHARACTER,   \n",
    "B-SONG - 13 false negative of O\n",
    "\n",
    "Upon further error analysis:\n",
    "- If the previous and next words are tagged as O, the current also gets tagged as O incorrectly\n",
    "\n",
    "                        precision    recall  f1-score   support\n",
    "\n",
    "          B-ACTOR       0.73      0.88      0.80       433\n",
    "      B-CHARACTER       0.68      0.30      0.41        44\n",
    "       B-DIRECTOR       0.77      0.67      0.72       365\n",
    "          B-GENRE       0.97      0.99      0.98       927\n",
    "           B-PLOT       0.60      0.72      0.66       298\n",
    "         B-RATING       1.00      1.00      1.00       430\n",
    "B-RATINGS_AVERAGE       0.89      0.90      0.89       451\n",
    "         B-REVIEW       0.00      0.00      0.00        31\n",
    "           B-SONG       0.41      0.35      0.38        20\n",
    "          B-TITLE       0.69      0.39      0.50       679\n",
    "        B-TRAILER       1.00      0.54      0.70        28\n",
    "           B-YEAR       0.96      1.00      0.98       535\n",
    "          I-ACTOR       0.74      0.87      0.80       482\n",
    "      I-CHARACTER       0.56      0.40      0.47        47\n",
    "       I-DIRECTOR       0.77      0.68      0.72       410\n",
    "          I-GENRE       0.90      1.00      0.95       123\n",
    "           I-PLOT       0.34      0.80      0.47       148\n",
    "         I-RATING       0.97      1.00      0.99       156\n",
    "I-RATINGS_AVERAGE       0.81      0.94      0.87       408\n",
    "         I-REVIEW       0.00      0.00      0.00         9\n",
    "           I-SONG       0.32      0.40      0.35        43\n",
    "          I-TITLE       0.82      0.53      0.64      1182\n",
    "        I-TRAILER       0.00      0.00      0.00         1\n",
    "           I-YEAR       0.96      1.00      0.98       528\n",
    "                O       0.95      0.97      0.96     12447\n",
    "\n",
    "         accuracy                           0.90     20225\n",
    "        macro avg       0.67      0.65      0.65     20225\n",
    "     weighted avg       0.90      0.90      0.89     20225"
   ]
  },
  {
   "cell_type": "markdown",
   "metadata": {},
   "source": [
    "#### After adding the previous tokens"
   ]
  },
  {
   "cell_type": "raw",
   "metadata": {},
   "source": [
    "After the adding just features for the previous token(current-1) f1-score of the macro-average improved from 65% to 71%.\n",
    "Classes with lowest precision: B-REVIEW, I-REVIEW, checked the false positives:\n",
    "B-REVIEW - 8 class O, 2 class B-RATINGS-AVERAGE, 1  of I-REVIEW\n",
    "I-REVIEW - 2  class I-RATINGS-AVRAGE, 3 class of O\n",
    "\n",
    "Classes with lowest recall: B-REVIEW, I-REVIEW, I-TRAILER, B-CHARACTER, I-SONG, checked the false negatives:\n",
    "B-REVIEW - 28 false negative of class O,2 false negative of class I-TITLE, 1 false negative of class B-RATINGS-AVERAGE\n",
    "I-REVIEW - 2 false negative of class I-RATINGS-AVERAGE,3 false negative of class O\n",
    "I-TRAILER - 1 false negative of O\n",
    "B-CHARACTER - 9 false negative of B-ACTOR, 4 false negative of B-TITLE, 9 false negative of B-ACTOR, 1 false negative of I-DIRECTOR, 2 false negative of B-DIRECTOR, 13 false negative of B-RIVIEW,  4 false negative of O,8 false negative of class I-TITLE, 3 false negative of class I-CHARACTER\n",
    "I-SONG - 3 false negative of I-PLOT, 23 false negative of O\n",
    "\n",
    "Upon further error analysis:\n",
    "- If the previous and next words are tagged as O, the current also gets tagged as O incorrectly\n",
    "\n",
    "                        precision    recall  f1-score   support\n",
    "\n",
    "          B-ACTOR       0.86      0.95      0.90       433\n",
    "      B-CHARACTER       0.68      0.30      0.41        44\n",
    "       B-DIRECTOR       0.94      0.89      0.91       365\n",
    "          B-GENRE       0.97      0.98      0.98       927\n",
    "           B-PLOT       0.78      0.80      0.79       298\n",
    "         B-RATING       1.00      1.00      1.00       430\n",
    "B-RATINGS_AVERAGE       0.90      0.91      0.91       451\n",
    "         B-REVIEW       0.00      0.00      0.00        31\n",
    "           B-SONG       0.89      0.40      0.55        20\n",
    "          B-TITLE       0.84      0.62      0.71       679\n",
    "        B-TRAILER       1.00      0.43      0.60        28\n",
    "           B-YEAR       0.95      0.99      0.97       535\n",
    "          I-ACTOR       0.86      0.93      0.89       482\n",
    "      I-CHARACTER       0.58      0.40      0.48        47\n",
    "       I-DIRECTOR       0.94      0.87      0.90       410\n",
    "          I-GENRE       0.95      1.00      0.98       123\n",
    "           I-PLOT       0.51      0.86      0.64       148\n",
    "         I-RATING       0.99      1.00      1.00       156\n",
    "I-RATINGS_AVERAGE       0.85      0.94      0.89       408\n",
    "         I-REVIEW       0.00      0.00      0.00         9\n",
    "           I-SONG       0.57      0.40      0.47        43\n",
    "          I-TITLE       0.88      0.69      0.77      1182\n",
    "        I-TRAILER       0.00      0.00      0.00         1\n",
    "           I-YEAR       0.96      0.99      0.98       528\n",
    "                O       0.95      0.98      0.97     12447\n",
    "\n",
    "         accuracy                           0.93     20225\n",
    "        macro avg       0.75      0.69      0.71     20225\n",
    "     weighted avg       0.93      0.93      0.93     20225"
   ]
  },
  {
   "cell_type": "markdown",
   "metadata": {},
   "source": [
    "#### After adding the next tokens"
   ]
  },
  {
   "cell_type": "raw",
   "metadata": {},
   "source": [
    "After adding the next token features along with the previous, the f1-score reduced to 70%.\n",
    "Classes with lowest precision: B-REVIEW, I-REVIEW, I-TRAILER,checked the false positives:\n",
    "B-REVIEW - 17 class O\n",
    "\n",
    "Classes with lowest recall:B-REVIEW,I-REVIEW,I-TRAILER,B-TRAILER,B-CHARACTER,I-CHARACTER, checked the false negatives: \n",
    "B-REVIEW - 2 false negative of class B-RATINGS-AVERAGE,2 false negative of class I-TITLE, 27 false negative of O\n",
    "I-REVIEW - 1 false negative of class I-RATINGS-AVERAGE,8 false negative of class O\n",
    "I-TRAILER - 1 false negative of O\n",
    "B-CHARACTER - 8 false negative of B-ACTOR, 6 false negative of class I-TITLE,3 false negative of O, 1 false negative of I-DIRECTOR, 3 false negative of class I-CHARACTER, 11 false negatives for class B-ACTOR\n",
    "I-SONG - 3 false negative of I-TITLE, 23 false negative of O\n",
    "\n",
    "Upon further error analysis:\n",
    "- If the previous and next words are tagged as O, the current also gets tagged as O incorrectly\n",
    "\n",
    "\n",
    "                        precision    recall  f1-score   support\n",
    "\n",
    "          B-ACTOR       0.89      0.94      0.91       433\n",
    "      B-CHARACTER       0.86      0.27      0.41        44\n",
    "       B-DIRECTOR       0.95      0.91      0.93       365\n",
    "          B-GENRE       0.98      0.98      0.98       927\n",
    "           B-PLOT       0.80      0.83      0.82       298\n",
    "         B-RATING       1.00      1.00      1.00       430\n",
    "B-RATINGS_AVERAGE       0.92      0.94      0.93       451\n",
    "         B-REVIEW       0.00      0.00      0.00        31\n",
    "           B-SONG       0.80      0.40      0.53        20\n",
    "          B-TITLE       0.83      0.64      0.72       679\n",
    "        B-TRAILER       1.00      0.21      0.35        28\n",
    "           B-YEAR       0.95      1.00      0.97       535\n",
    "          I-ACTOR       0.89      0.93      0.91       482\n",
    "      I-CHARACTER       0.70      0.34      0.46        47\n",
    "       I-DIRECTOR       0.95      0.90      0.92       410\n",
    "          I-GENRE       0.95      1.00      0.98       123\n",
    "           I-PLOT       0.53      0.86      0.65       148\n",
    "         I-RATING       0.99      1.00      0.99       156\n",
    "I-RATINGS_AVERAGE       0.88      0.94      0.91       408\n",
    "         I-REVIEW       0.00      0.00      0.00         9\n",
    "           I-SONG       0.59      0.40      0.47        43\n",
    "          I-TITLE       0.88      0.69      0.78      1182\n",
    "        I-TRAILER       0.00      0.00      0.00         1\n",
    "           I-YEAR       0.95      1.00      0.97       528\n",
    "                O       0.95      0.98      0.97     12447\n",
    "\n",
    "         accuracy                           0.93     20225\n",
    "        macro avg       0.77      0.69      0.70     20225\n",
    "     weighted avg       0.93      0.93      0.93     20225"
   ]
  },
  {
   "cell_type": "markdown",
   "metadata": {},
   "source": [
    "#### After adding the previous tokens(current-2)"
   ]
  },
  {
   "cell_type": "raw",
   "metadata": {},
   "source": [
    "Adding previous token(current-2):\n",
    "Classes with lowest precision: B-REVIEW, I-REVIEW, I-TRAILER,checked the false positives:\n",
    "B-REVIEW- 1 of class I-REVIEW, 42 of class O, \n",
    "I-REVIEW - 1 class of I-TRAILER, 123 of class I-GENRE,  4 of class O, 2 of class I-TITLE, 1 of class B-PLOT \n",
    "I-TRAILER - 0 truths\n",
    "\n",
    "-If the next word is I-ACTOR, B-RATING, the word tagged as B-REVIEW\n",
    "-If the next word is B-GENRE, the word tagged as B-REVIEW\n",
    "-If the next word is I-REVIEW, the current word is tagged as B-REVIEW\n",
    "-Words like oscar@NN are tagged as B-REVIEW\n",
    "\n",
    "Classes with lowest recall:B-REVIEW,I-REVIEW,I-TRAILER,B-CHARACTER,I-CHARACTER, checked the false negatives: \n",
    "B-REVIEW - 1 false negative of class B-TITLE,  29 false negative of class O, 1 false negative of class I-TITLE \n",
    "I-REVIEW - 1 false negative of class B-REVIEW\n",
    "I-TRAILER - 1 false negative of class O\n",
    "B-CHARACTER - 10 false negative of B-TITLE, 4 false negative of O, 13 false negative of B-DIRECTOR,1 false negative of I-DIRECTOR,   14 false negative of B-ACTOR \n",
    "I-CHARACTER - 15 false negative of I-ACTOR,6 false negative of class O, 6 false negative of class B-RATINGS-AVERAGE,  1 false negative of I-DIRECTOR, 19 false negative of I-TITLE\n",
    "\n",
    "Upon further error analysis:\n",
    "- If the previous and next words are tagged as O, the current also gets tagged as O incorrectly\n",
    "- Word like scarlett@NNP get tagged as B-ACTOR (instead of B-CHARACTER) and gets followed by I-ACTOR (instead of I-CHARACTER)\n",
    "- Words in truth tagged as B-DIRECTOR and I-DIRECTOR gets tagged as O in certain cases like  i@PRP,m@VBP, etc.\n",
    "                       precision    recall  f1-score   support\n",
    "\n",
    "          B-ACTOR       0.86      0.94      0.90       433\n",
    "      B-CHARACTER       0.77      0.23      0.35        44\n",
    "       B-DIRECTOR       0.97      0.90      0.93       365\n",
    "          B-GENRE       0.98      0.97      0.98       927\n",
    "           B-PLOT       0.82      0.82      0.82       298\n",
    "         B-RATING       1.00      1.00      1.00       430\n",
    "B-RATINGS_AVERAGE       0.88      0.95      0.91       451\n",
    "         B-REVIEW       0.00      0.00      0.00        31\n",
    "           B-SONG       0.80      0.40      0.53        20\n",
    "          B-TITLE       0.84      0.70      0.76       679\n",
    "        B-TRAILER       1.00      0.29      0.44        28\n",
    "           B-YEAR       0.95      1.00      0.98       535\n",
    "          I-ACTOR       0.86      0.92      0.89       482\n",
    "      I-CHARACTER       0.86      0.13      0.22        47\n",
    "       I-DIRECTOR       0.97      0.88      0.92       410\n",
    "          I-GENRE       0.94      1.00      0.97       123\n",
    "           I-PLOT       0.59      0.84      0.70       148\n",
    "         I-RATING       0.99      1.00      0.99       156\n",
    "I-RATINGS_AVERAGE       0.87      0.95      0.91       408\n",
    "         I-REVIEW       0.00      0.00      0.00         9\n",
    "           I-SONG       0.70      0.37      0.48        43\n",
    "          I-TITLE       0.90      0.75      0.82      1182\n",
    "        I-TRAILER       0.00      0.00      0.00         1\n",
    "           I-YEAR       0.95      1.00      0.98       528\n",
    "                O       0.96      0.98      0.97     12447\n",
    "\n",
    "         accuracy                           0.94     20225\n",
    "        macro avg       0.78      0.68      0.70     20225\n",
    "     weighted avg       0.94      0.94      0.93     20225"
   ]
  },
  {
   "cell_type": "markdown",
   "metadata": {},
   "source": [
    "#### After adding the next tokens(current+2):"
   ]
  },
  {
   "cell_type": "raw",
   "metadata": {},
   "source": [
    "After adding current+2 tokens' features, there is a slight change in the recall of the macro average, but the f1-score of the macro-average remains the same. \n",
    "\n",
    "                        precision    recall  f1-score   support\n",
    "\n",
    "          B-ACTOR       0.85      0.94      0.89       433\n",
    "      B-CHARACTER       0.79      0.25      0.38        44\n",
    "       B-DIRECTOR       0.96      0.89      0.92       365\n",
    "          B-GENRE       0.98      0.97      0.98       927\n",
    "           B-PLOT       0.83      0.83      0.83       298\n",
    "         B-RATING       1.00      1.00      1.00       430\n",
    "B-RATINGS_AVERAGE       0.88      0.96      0.92       451\n",
    "         B-REVIEW       0.00      0.00      0.00        31\n",
    "           B-SONG       0.75      0.45      0.56        20\n",
    "          B-TITLE       0.85      0.70      0.77       679\n",
    "        B-TRAILER       1.00      0.25      0.40        28\n",
    "           B-YEAR       0.95      1.00      0.98       535\n",
    "          I-ACTOR       0.84      0.92      0.88       482\n",
    "      I-CHARACTER       0.88      0.15      0.25        47\n",
    "       I-DIRECTOR       0.95      0.87      0.91       410\n",
    "          I-GENRE       0.94      1.00      0.97       123\n",
    "           I-PLOT       0.59      0.83      0.69       148\n",
    "         I-RATING       0.98      1.00      0.99       156\n",
    "I-RATINGS_AVERAGE       0.88      0.95      0.91       408\n",
    "         I-REVIEW       0.00      0.00      0.00         9\n",
    "           I-SONG       0.68      0.49      0.57        43\n",
    "          I-TITLE       0.91      0.74      0.82      1182\n",
    "        I-TRAILER       0.00      0.00      0.00         1\n",
    "           I-YEAR       0.95      1.00      0.98       528\n",
    "                O       0.96      0.98      0.97     12447\n",
    "\n",
    "         accuracy                           0.94     20225\n",
    "        macro avg       0.78      0.69      0.70     20225\n",
    "     weighted avg       0.94      0.94      0.93     20225"
   ]
  },
  {
   "cell_type": "markdown",
   "metadata": {},
   "source": [
    "#### After adding POS tag for the current-2 word, f1-score remains the same"
   ]
  },
  {
   "cell_type": "raw",
   "metadata": {},
   "source": [
    "Adding POS tag for the current-2 word in the feature list reduces the f1-score for macro average:\n",
    "                       precision    recall  f1-score   support\n",
    "\n",
    "          B-ACTOR       0.85      0.95      0.90       433\n",
    "      B-CHARACTER       0.76      0.30      0.43        44\n",
    "       B-DIRECTOR       0.96      0.90      0.93       365\n",
    "          B-GENRE       0.98      0.99      0.98       927\n",
    "           B-PLOT       0.79      0.84      0.82       298\n",
    "         B-RATING       1.00      1.00      1.00       430\n",
    "B-RATINGS_AVERAGE       0.87      0.94      0.90       451\n",
    "         B-REVIEW       0.00      0.00      0.00        31\n",
    "           B-SONG       0.64      0.35      0.45        20\n",
    "          B-TITLE       0.85      0.67      0.75       679\n",
    "        B-TRAILER       1.00      0.32      0.49        28\n",
    "           B-YEAR       0.95      1.00      0.97       535\n",
    "          I-ACTOR       0.84      0.93      0.89       482\n",
    "      I-CHARACTER       1.00      0.19      0.32        47\n",
    "       I-DIRECTOR       0.96      0.88      0.92       410\n",
    "          I-GENRE       0.92      1.00      0.96       123\n",
    "           I-PLOT       0.54      0.89      0.67       148\n",
    "         I-RATING       0.98      1.00      0.99       156\n",
    "I-RATINGS_AVERAGE       0.83      0.94      0.88       408\n",
    "         I-REVIEW       0.00      0.00      0.00         9\n",
    "           I-SONG       0.64      0.42      0.51        43\n",
    "          I-TITLE       0.91      0.73      0.81      1182\n",
    "        I-TRAILER       0.00      0.00      0.00         1\n",
    "           I-YEAR       0.97      1.00      0.98       528\n",
    "                O       0.96      0.97      0.97     12447\n",
    "\n",
    "         accuracy                           0.94     20225\n",
    "        macro avg       0.77      0.69      0.70     20225\n",
    "     weighted avg       0.94      0.94      0.93     20225"
   ]
  },
  {
   "cell_type": "code",
   "execution_count": 10,
   "metadata": {},
   "outputs": [],
   "source": [
    "_pattern = re.compile(r\"\\d\")  # to recognize numbers/digits\n",
    "\n",
    "# This is the 'out-of-the-box' get_features function from the nltk CRF tagger\n",
    "def get_features(tokens, idx):\n",
    "    \"\"\"\n",
    "    Extract basic features about this word including\n",
    "         - Current Word\n",
    "         - Is Capitalized ?\n",
    "         - Has Punctuation ?\n",
    "         - Has Number ?\n",
    "         - Suffixes up to length 3\n",
    "    Note that : we might include feature over previous word, next word ect.\n",
    "\n",
    "    :return : a list which contains the features\n",
    "    :rtype : list(str)\n",
    "\n",
    "    \"\"\"\n",
    "    word = tokens[idx]   \n",
    "    feature_list = []   \n",
    "#split on this special symbol in the feature extraction function get_features to get the word and POS tag - \n",
    "#modify that function so it uses the POS tag in addition to the word \n",
    "#(currently using the word only is achieved by feature_list.append(\"WORD_\" + token) -FOR THE Q4 last part\n",
    "    if word.find('@') > 0:\n",
    "        token, pos = word.split('@')\n",
    "        #add the POS to feature list\n",
    "        feature_list.append(\"POS_\" + pos)\n",
    "    else:\n",
    "        token = word\n",
    "        \n",
    "\n",
    "    if not token:\n",
    "        return feature_list\n",
    "\n",
    "    # Capitalization\n",
    "    if token[0].isupper():\n",
    "        feature_list.append(\"CAPITALIZATION\")\n",
    "    \n",
    "\n",
    "    # Number\n",
    "    if re.search(_pattern, token) is not None:\n",
    "        feature_list.append(\"HAS_NUM\")\n",
    "\n",
    "    # Punctuation\n",
    "    punc_cat = set([\"Pc\", \"Pd\", \"Ps\", \"Pe\", \"Pi\", \"Pf\", \"Po\"])\n",
    "    if all(unicodedata.category(x) in punc_cat for x in token):\n",
    "        feature_list.append(\"PUNCTUATION\")\n",
    "\n",
    "    # Suffix up to length 3\n",
    "    if len(token) > 1:\n",
    "        feature_list.append(\"SUF_\" + token[-1:])\n",
    "    if len(token) > 2:\n",
    "        feature_list.append(\"SUF_\" + token[-2:])\n",
    "    if len(token) > 3:\n",
    "        feature_list.append(\"SUF_\" + token[-3:])\n",
    "\n",
    "    # Added suffix upto length 4 \n",
    "    if len(token) > 4:\n",
    "        feature_list.append(\"SUF_\" + token[-4:])\n",
    "        \n",
    "    # Prefix up to length 3 and 5\n",
    "    if len(token) > 3:\n",
    "        feature_list.append(\"PRE_\" + token[:4])\n",
    "    if len(token) > 4:\n",
    "        feature_list.append(\"PRE_\" + token[:4])\n",
    "    if len(token) > 5:\n",
    "        feature_list.append(\"PRE_\" + token[:5])\n",
    "\n",
    "    # Lower case\n",
    "    if token[0].islower():\n",
    "        feature_list.append(\"LOWER\")\n",
    "    \n",
    "    # Is Title\n",
    "    if token[0].istitle():\n",
    "        feature_list.append(\"TITLE\")\n",
    "     \n",
    "\n",
    "    #window of the previous token (current-1)\n",
    "    if idx>0:\n",
    "        #previous token\n",
    "        token_prev_1 = tokens[idx-1]\n",
    " \n",
    "        word_prev_1 = tokens[idx-1]\n",
    "        if word_prev_1.find('@') > 0:\n",
    "            token_prev_1, token_prev_1_pos = word.split('@')\n",
    "            #add the POS to feature list\n",
    "            feature_list.append(\"-1_PREV_TOKEN_POS_\" + token_prev_1_pos)\n",
    "        else:\n",
    "            token = token_prev_1\n",
    "\n",
    "        \n",
    "        #is the prev word lower\n",
    "        if token_prev_1.islower():\n",
    "            feature_list.append(\"-1_PREV_TOKEN_LOWER\")\n",
    "        #the first 3 chars of the prev word\n",
    "        feature_list.append(\"-1_PREV_PRE_3_\" + token_prev_1[-3:]) \n",
    "        #the last 3 chars of the prev word\n",
    "        feature_list.append(\"-1_PREV_SUFF_3_\" + token_prev_1[:3]) \n",
    "        #the first 4 chars of the prev word\n",
    "        feature_list.append(\"-1_PREV_PRE_4_\" + token_prev_1[-4:]) \n",
    "        #the last 4 chars of the prev word\n",
    "        feature_list.append(\"-1_PREV_SUFF_4_\" + token_prev_1[:4]) \n",
    "        #the first 5 chars of the prev word\n",
    "        feature_list.append(\"-1_PREV_PRE_5_\" + token_prev_1[-5:]) \n",
    "        #the last 5 chars of the prev word\n",
    "        feature_list.append(\"-1_PREV_SUFF_5_\" + token_prev_1[:5]) \n",
    "        #prev word has number?\n",
    "        if re.search(_pattern, token_prev_1) is not None:\n",
    "            feature_list.append(\"-1_PREV_HAS_NUM\")\n",
    "        #is the prev word title?\n",
    "        if token_prev_1.istitle():\n",
    "            feature_list.append(\"-1_PREV_TITLE\")\n",
    "\n",
    "   \n",
    "    #window of the previous token (current-2)\n",
    "    if idx>1:\n",
    "        #previous token\n",
    "        token_prev_2 = tokens[idx-2]\n",
    "        #is the prev word lower\n",
    "        if token_prev_2.islower():\n",
    "            feature_list.append(\"-2_PREV_TOKEN_LOWER\")\n",
    "        #the first 3 chars of the prev word\n",
    "        feature_list.append(\"-2_PREV_PRE_3_\" + token_prev_2[-3:]) \n",
    "        #the last 3 chars of the prev word\n",
    "        feature_list.append(\"-2_PREV_SUFF_3_\" + token_prev_2[:3]) \n",
    "        #the first 4 chars of the prev word\n",
    "        feature_list.append(\"-2_PREV_PRE_4_\" + token_prev_2[-4:]) \n",
    "        #the last 4 chars of the prev word\n",
    "        feature_list.append(\"-2_PREV_SUFF_4_\" + token_prev_2[:4]) \n",
    "        #the first 5 chars of the prev word\n",
    "        feature_list.append(\"-2_PREV_PRE_5_\" + token_prev_2[-5:]) \n",
    "        #the last 5 chars of the prev word\n",
    "        feature_list.append(\"-2_PREV_SUFF_5_\" + token_prev_2[:5]) \n",
    "        #prev word has number?\n",
    "        if re.search(_pattern, token_prev_2) is not None:\n",
    "            feature_list.append(\"-2_PREV_HAS_NUM\")\n",
    "        #is the prev word title?\n",
    "        if token_prev_2.istitle():\n",
    "            feature_list.append(\"-2_PREV_TITLE\")\n",
    "    \n",
    "    \n",
    "    #window of the next token \n",
    "    if idx<(len(tokens)-1):\n",
    "        #next token\n",
    "        token_next_1 = tokens[idx+1]\n",
    "        #is the next word lower\n",
    "        if token_next_1.islower():\n",
    "            feature_list.append(\"+1_NEXT_TOKEN_LOWER\")\n",
    "        #the first 4 chars of the next word\n",
    "        feature_list.append(\"+1_NEXT_PRE_4_\" + token_next_1[-4:]) \n",
    "        #the last 4 chars of the next word\n",
    "        feature_list.append(\"+1_NEXT_SUFF_4_\" + token_next_1[:4])  \n",
    "        #next word has number?\n",
    "        if re.search(_pattern, token_next_1) is not None:\n",
    "            feature_list.append(\"+1_NEXT_HAS_NUM\")\n",
    "        #is the next word title?\n",
    "        if token_next_1.istitle():\n",
    "            feature_list.append(\"+1_NEXT_TITLE\")\n",
    "      \n",
    "    #window of the next token \n",
    "    if idx<(len(tokens)-2):\n",
    "        #next token\n",
    "        token_next_2 = tokens[idx+2]\n",
    "        #is the next word lower\n",
    "        if token_next_2.islower():\n",
    "            feature_list.append(\"+2_NEXT_TOKEN_LOWER\")\n",
    "        #the first 4 chars of the next word\n",
    "        feature_list.append(\"+2_NEXT_PRE_4_\" + token_next_2[-4:]) \n",
    "        #the last 4 chars of the next word\n",
    "        feature_list.append(\"+2_NEXT_SUFF_4_\" + token_next_2[:4])  \n",
    "        #next word has number?\n",
    "        if re.search(_pattern, token_next_2) is not None:\n",
    "            feature_list.append(\"+2_NEXT_HAS_NUM\")\n",
    "        #is the next word title?\n",
    "        if token_next_2.istitle():\n",
    "            feature_list.append(\"+2_NEXT_TITLE\")\n",
    "\n",
    "        \n",
    "    feature_list.append(\"WORD_\" + token)\n",
    "    \n",
    "    #print(feature_list)\n",
    "    return feature_list"
   ]
  },
  {
   "cell_type": "code",
   "execution_count": 11,
   "metadata": {},
   "outputs": [
    {
     "name": "stdout",
     "output_type": "stream",
     "text": [
      "training tagger...\n",
      "done\n"
     ]
    }
   ],
   "source": [
    "# Train the CRF BIO-tag tagger\n",
    "TAGGER_PATH = \"crf_nlu.tagger\"  # path to the tagger- it will save/access the model from here\n",
    "ct = CRFTagger(feature_func=get_features)  # initialize tagger with get_features function\n",
    "\n",
    "print(\"training tagger...\")\n",
    "ct.train(training_data, TAGGER_PATH)\n",
    "print(\"done\")"
   ]
  },
  {
   "cell_type": "code",
   "execution_count": 12,
   "metadata": {},
   "outputs": [
    {
     "name": "stdout",
     "output_type": "stream",
     "text": [
      "1955 instances\n",
      "20225 words\n"
     ]
    }
   ],
   "source": [
    "# load tagger from saved file\n",
    "ct = CRFTagger(feature_func=get_features)  # initialize tagger\n",
    "ct.set_model_file(TAGGER_PATH)  # load model from file\n",
    "\n",
    "test_data = [preProcess(sample) for sample in unprocessed_test_data]\n",
    "print(len(test_data), \"instances\")\n",
    "print(sum([len(sent) for sent in test_data]), \"words\")"
   ]
  },
  {
   "cell_type": "code",
   "execution_count": 13,
   "metadata": {},
   "outputs": [
    {
     "name": "stdout",
     "output_type": "stream",
     "text": [
      "testing tagger...\n",
      "done\n"
     ]
    }
   ],
   "source": [
    "print(\"testing tagger...\")\n",
    "preds = []\n",
    "y_test = []\n",
    "\n",
    "for sent in test_data:\n",
    "    sent_preds = [x[1] for x in ct.tag([s[0] for s in sent])]\n",
    "    sent_true = [s[1] for s in sent]\n",
    "    preds.extend(sent_preds)\n",
    "    y_test.extend(sent_true)\n",
    "print(\"done\")"
   ]
  },
  {
   "cell_type": "code",
   "execution_count": 14,
   "metadata": {},
   "outputs": [
    {
     "name": "stdout",
     "output_type": "stream",
     "text": [
      "                   precision    recall  f1-score   support\n",
      "\n",
      "          B-ACTOR       0.85      0.95      0.90       433\n",
      "      B-CHARACTER       0.76      0.30      0.43        44\n",
      "       B-DIRECTOR       0.96      0.90      0.93       365\n",
      "          B-GENRE       0.98      0.99      0.98       927\n",
      "           B-PLOT       0.79      0.84      0.82       298\n",
      "         B-RATING       1.00      1.00      1.00       430\n",
      "B-RATINGS_AVERAGE       0.87      0.94      0.90       451\n",
      "         B-REVIEW       0.00      0.00      0.00        31\n",
      "           B-SONG       0.64      0.35      0.45        20\n",
      "          B-TITLE       0.85      0.67      0.75       679\n",
      "        B-TRAILER       1.00      0.32      0.49        28\n",
      "           B-YEAR       0.95      1.00      0.97       535\n",
      "          I-ACTOR       0.84      0.93      0.89       482\n",
      "      I-CHARACTER       1.00      0.19      0.32        47\n",
      "       I-DIRECTOR       0.96      0.88      0.92       410\n",
      "          I-GENRE       0.92      1.00      0.96       123\n",
      "           I-PLOT       0.54      0.89      0.67       148\n",
      "         I-RATING       0.98      1.00      0.99       156\n",
      "I-RATINGS_AVERAGE       0.83      0.94      0.88       408\n",
      "         I-REVIEW       0.00      0.00      0.00         9\n",
      "           I-SONG       0.64      0.42      0.51        43\n",
      "          I-TITLE       0.91      0.73      0.81      1182\n",
      "        I-TRAILER       0.00      0.00      0.00         1\n",
      "           I-YEAR       0.97      1.00      0.98       528\n",
      "                O       0.96      0.97      0.97     12447\n",
      "\n",
      "         accuracy                           0.94     20225\n",
      "        macro avg       0.77      0.69      0.70     20225\n",
      "     weighted avg       0.94      0.94      0.93     20225\n",
      "\n"
     ]
    },
    {
     "name": "stderr",
     "output_type": "stream",
     "text": [
      "/Users/sudiptamondal/opt/anaconda3/lib/python3.8/site-packages/sklearn/metrics/_classification.py:1221: UndefinedMetricWarning: Precision and F-score are ill-defined and being set to 0.0 in labels with no predicted samples. Use `zero_division` parameter to control this behavior.\n",
      "  _warn_prf(average, modifier, msg_start, len(result))\n"
     ]
    }
   ],
   "source": [
    "# Output the classification report (which you should save each time for comparing your models)\n",
    "print(classification_report(y_test, preds))"
   ]
  },
  {
   "cell_type": "code",
   "execution_count": 16,
   "metadata": {},
   "outputs": [],
   "source": [
    "def confusion_matrix_heatmap(y_test, preds):\n",
    "    \"\"\"Function to plot a confusion matrix\"\"\"\n",
    "    labels = list(set(y_test))   # get the labels in the y_test\n",
    "    # print(labels)\n",
    "    cm = confusion_matrix(y_test, preds, labels)\n",
    "    fig = plt.figure(figsize=(20,20))\n",
    "    ax = fig.add_subplot(111)\n",
    "    cax = ax.matshow(cm)\n",
    "    plt.title('Confusion matrix of the classifier')\n",
    "    fig.colorbar(cax)\n",
    "    ax.set_xticks(np.arange(len(labels)))\n",
    "    ax.set_yticks(np.arange(len(labels)))\n",
    "    ax.set_xticklabels( labels, rotation=45)\n",
    "    ax.set_yticklabels( labels)\n",
    "\n",
    "    for i in range(len(cm)):\n",
    "        for j in range(len(cm)):\n",
    "            text = ax.text(j, i, cm[i, j],\n",
    "                           ha=\"center\", va=\"center\", color=\"w\")\n",
    "\n",
    "    plt.xlabel('Predicted')\n",
    "    plt.ylabel('True')\n",
    "    #fig.tight_layout()\n",
    "    plt.show()"
   ]
  },
  {
   "cell_type": "code",
   "execution_count": 17,
   "metadata": {},
   "outputs": [
    {
     "name": "stderr",
     "output_type": "stream",
     "text": [
      "/Users/sudiptamondal/opt/anaconda3/lib/python3.8/site-packages/sklearn/utils/validation.py:68: FutureWarning: Pass labels=['B-GENRE', 'I-CHARACTER', 'I-TITLE', 'I-DIRECTOR', 'B-YEAR', 'I-RATING', 'I-ACTOR', 'I-TRAILER', 'I-GENRE', 'B-RATING', 'B-PLOT', 'O', 'B-ACTOR', 'B-DIRECTOR', 'B-RATINGS_AVERAGE', 'I-PLOT', 'B-SONG', 'B-TITLE', 'I-REVIEW', 'B-REVIEW', 'I-YEAR', 'I-SONG', 'I-RATINGS_AVERAGE', 'B-TRAILER', 'B-CHARACTER'] as keyword args. From version 0.25 passing these as positional arguments will result in an error\n",
      "  warnings.warn(\"Pass {} as keyword args. From version 0.25 \"\n"
     ]
    },
    {
     "data": {
      "image/png": "[encoded data removed]",
      "text/plain": [
       "<Figure size 1440x1440 with 2 Axes>"
      ]
     },
     "metadata": {
      "needs_background": "light"
     },
     "output_type": "display_data"
    }
   ],
   "source": [
    "confusion_matrix_heatmap(y_test, preds)"
   ]
  },
  {
   "cell_type": "code",
   "execution_count": null,
   "metadata": {},
   "outputs": [],
   "source": [
    "print(\"testing tagger...\")\n",
    "preds = []\n",
    "y_test = []\n",
    "\n",
    "#changed the lowest values as per the new classification report\n",
    "lowest_precision = ['B-REVIEW', 'I-REVIEW','I-TRAILER']\n",
    "\n",
    "for c in lowest_precision:\n",
    "    class_counter = 0\n",
    "    sent_count = 0\n",
    "    print('For the class {}'.format(c))\n",
    "    for sent in test_data:\n",
    "        sent_count += 1\n",
    "        sent_preds = [x[1] for x in ct.tag([s[0] for s in sent])]\n",
    "        sent_true = [s[1] for s in sent]\n",
    "        preds.extend(sent_preds)\n",
    "        y_test.extend(sent_true)\n",
    "\n",
    "        #print out all the sentences where there is a false positive for that class \n",
    "        #(i.e. the label is predicted in the predicted label for a given word by the tagger, \n",
    "        #but this is not present in the corresponding ground truth label for that word)\n",
    "        fp_counter =0\n",
    "        fp =[]\n",
    "        \n",
    "        #for the sentence\n",
    "        for i in range(0,len(sent_true)):\n",
    "        #compare every bio tag of the sentence's word between truth and predicted sentece\n",
    "        #if the predicted tag lies in the list of lowest precision then increase the counter\n",
    "            if (sent_true[i] != sent_preds[i]) and (sent_preds[i] == c):\n",
    "                #print(sent_true[i])\n",
    "                #print(sent_preds[i])\n",
    "                fp_counter +=1\n",
    "        \n",
    "        #if the counter for the sentence has more than 0 false positives, then print the ground truth and \n",
    "        # the respective false positive predicted\n",
    "        if(fp_counter>0):\n",
    "            print('Ground truth:')\n",
    "            print(sent)\n",
    "            print('False positive predicted:')\n",
    "            for i in range(0,len(sent)):\n",
    "                senti_sent_predsi = (sent[i][0],sent_preds[i])\n",
    "                fp.append(senti_sent_predsi)\n",
    "            class_counter +=1\n",
    "            print(fp)\n",
    "    print('Number of sentences having false positives for class {} is {}'.format(c,class_counter))\n",
    "    print('Number of sentences parsed{}'.format(sent_count))\n",
    "print(\"done\")"
   ]
  },
  {
   "cell_type": "code",
   "execution_count": null,
   "metadata": {},
   "outputs": [],
   "source": [
    "print(\"testing tagger...\")\n",
    "preds = []\n",
    "y_test = []\n",
    "\n",
    "#changed the lowest values as per the new classification report\n",
    "lowest_recall = ['B-REVIEW','I-REVIEW','I-TRAILER','B-TRAILER','B-CHARACTER','I-CHARACTER']\n",
    "\n",
    "for c in lowest_recall:\n",
    "    class_counter = 0\n",
    "    sent_count = 0\n",
    "    print('For the class {}'.format(c))\n",
    "    for sent in test_data:\n",
    "        sent_count += 1\n",
    "        sent_preds = [x[1] for x in ct.tag([s[0] for s in sent])]\n",
    "        sent_true = [s[1] for s in sent]\n",
    "        preds.extend(sent_preds)\n",
    "        y_test.extend(sent_true)\n",
    "\n",
    "        #print out all the sentences where there is a false negative for that label \n",
    "        #(i.e. the label is present in the ground truth label for a given word, \n",
    "        #but that label is not predicted for that word by the tagger)\n",
    "        fn_counter =0\n",
    "        fn =[]\n",
    "        \n",
    "        #for the sentence\n",
    "        for i in range(0,len(sent_preds)):\n",
    "        #compare every bio tag of the sentence's word between truth and predicted sentece\n",
    "        #if the truth's tag lies in the list of lowest recall then increase the counter\n",
    "            if (sent_true[i] != sent_preds[i]) and (sent_true[i] == c):\n",
    "                #print(sent_true[i])\n",
    "                #print(sent_preds[i])\n",
    "                fn_counter +=1\n",
    "                \n",
    "        #if the counter for the sentence has more than 0 false negatives, then print the ground truth and \n",
    "        # the respective false negative predicted\n",
    "        if(fn_counter>0):\n",
    "            print('Ground truth:')\n",
    "            print(sent)\n",
    "            print('False negative predicted:')    \n",
    "            for i in range(0,len(sent)):\n",
    "                senti_sent_predsi = (sent[i][0],sent_preds[i])\n",
    "                fn.append(senti_sent_predsi)\n",
    "            print(fn)\n",
    "            class_counter +=1\n",
    "    print('Number of sentences having false negatives for class {} is {}'.format(c,class_counter))\n",
    "    print('Number of sentences parsed {}'.format(sent_count))\n",
    "print(\"done\")"
   ]
  },
  {
   "cell_type": "markdown",
   "metadata": {},
   "source": [
    "# 5. Feature experimentation for optimal macro average (20 marks).\n",
    "#### The last part of the question to for report on the original test data"
   ]
  },
  {
   "cell_type": "code",
   "execution_count": 15,
   "metadata": {},
   "outputs": [
    {
     "name": "stdout",
     "output_type": "stream",
     "text": [
      "9775 instances\n",
      "99491 words\n",
      "training tagger...\n",
      "done\n"
     ]
    }
   ],
   "source": [
    "#re-train the model on ALL the training data\n",
    "\n",
    "# prepare the whole training data data:\n",
    "engtrain_train_data = get_raw_data_from_bio_file(\"engtrain.bio.txt\") \n",
    "engtrain_data = [preProcess(example) for example in engtrain_train_data]\n",
    "print(len(engtrain_data), \"instances\")\n",
    "print(sum([len(engtrain_sent) for engtrain_sent in engtrain_data]), \"words\")\n",
    "\n",
    "# Train the CRF BIO-tag tagger\n",
    "TAGGER_PATH = \"crf_nlu.tagger\"  # path to the tagger- it will save/access the model from here\n",
    "ct = CRFTagger(feature_func=get_features)  # initialize tagger with get_features function\n",
    "\n",
    "print(\"training tagger...\")\n",
    "ct.train(engtrain_data, TAGGER_PATH)\n",
    "print(\"done\")"
   ]
  },
  {
   "cell_type": "code",
   "execution_count": 18,
   "metadata": {},
   "outputs": [
    {
     "name": "stdout",
     "output_type": "stream",
     "text": [
      "2443 instances\n",
      "24686 words\n"
     ]
    }
   ],
   "source": [
    "#print the classification report for the original test data \n",
    "#(i.e. from the test file engtest.bio.txt) as your final piece of code\n",
    "\n",
    "# load tagger from saved file\n",
    "ct = CRFTagger(feature_func=get_features)  # initialize tagger\n",
    "ct.set_model_file(TAGGER_PATH)  # load model from file\n",
    "\n",
    "# prepare the test data:\n",
    "raw_test_data = get_raw_data_from_bio_file(\"engtest.bio.txt\") \n",
    "test_data = [preProcess(example) for example in raw_test_data]\n",
    "print(len(test_data), \"instances\")\n",
    "print(sum([len(sent) for sent in test_data]), \"words\")"
   ]
  },
  {
   "cell_type": "code",
   "execution_count": 19,
   "metadata": {},
   "outputs": [
    {
     "name": "stdout",
     "output_type": "stream",
     "text": [
      "testing tagger...\n",
      "done\n"
     ]
    }
   ],
   "source": [
    "print(\"testing tagger...\")\n",
    "preds = []\n",
    "y_test = []\n",
    "for sent in test_data:\n",
    "    sent_preds = [x[1] for x in ct.tag([s[0] for s in sent])]\n",
    "    sent_true = [s[1] for s in sent]\n",
    "    preds.extend(sent_preds)\n",
    "    y_test.extend(sent_true)\n",
    "print(\"done\")"
   ]
  },
  {
   "cell_type": "code",
   "execution_count": 20,
   "metadata": {},
   "outputs": [
    {
     "name": "stdout",
     "output_type": "stream",
     "text": [
      "                   precision    recall  f1-score   support\n",
      "\n",
      "          B-ACTOR       0.90      0.94      0.92       812\n",
      "      B-CHARACTER       0.79      0.46      0.58        90\n",
      "       B-DIRECTOR       0.92      0.84      0.87       456\n",
      "          B-GENRE       0.94      0.96      0.95      1117\n",
      "           B-PLOT       0.72      0.67      0.69       491\n",
      "         B-RATING       0.98      0.97      0.97       500\n",
      "B-RATINGS_AVERAGE       0.92      0.88      0.90       451\n",
      "         B-REVIEW       0.47      0.12      0.20        56\n",
      "           B-SONG       0.80      0.52      0.63        54\n",
      "          B-TITLE       0.79      0.80      0.80       562\n",
      "        B-TRAILER       0.80      0.80      0.80        30\n",
      "           B-YEAR       0.96      0.95      0.95       720\n",
      "          I-ACTOR       0.89      0.93      0.91       862\n",
      "      I-CHARACTER       0.83      0.40      0.54        75\n",
      "       I-DIRECTOR       0.91      0.83      0.87       496\n",
      "          I-GENRE       0.87      0.71      0.78       222\n",
      "           I-PLOT       0.67      0.57      0.62       496\n",
      "         I-RATING       0.97      0.88      0.92       226\n",
      "I-RATINGS_AVERAGE       0.86      0.88      0.87       403\n",
      "         I-REVIEW       0.50      0.09      0.15        45\n",
      "           I-SONG       0.94      0.55      0.69       119\n",
      "          I-TITLE       0.80      0.88      0.84       856\n",
      "        I-TRAILER       0.00      0.00      0.00         8\n",
      "           I-YEAR       0.97      0.97      0.97       610\n",
      "                O       0.95      0.97      0.96     14929\n",
      "\n",
      "         accuracy                           0.92     24686\n",
      "        macro avg       0.81      0.70      0.73     24686\n",
      "     weighted avg       0.92      0.92      0.92     24686\n",
      "\n"
     ]
    }
   ],
   "source": [
    "# Output the classification report for engtest.bio.txt\n",
    "print(classification_report(y_test, preds))"
   ]
  },
  {
   "cell_type": "code",
   "execution_count": null,
   "metadata": {},
   "outputs": [],
   "source": []
  }
 ],
 "metadata": {
  "kernelspec": {
   "display_name": "Python 3",
   "language": "python",
   "name": "python3"
  },
  "language_info": {
   "codemirror_mode": {
    "name": "ipython",
    "version": 3
   },
   "file_extension": ".py",
   "mimetype": "text/x-python",
   "name": "python",
   "nbconvert_exporter": "python",
   "pygments_lexer": "ipython3",
   "version": "3.8.3"
  }
 },
 "nbformat": 4,
 "nbformat_minor": 2
}
